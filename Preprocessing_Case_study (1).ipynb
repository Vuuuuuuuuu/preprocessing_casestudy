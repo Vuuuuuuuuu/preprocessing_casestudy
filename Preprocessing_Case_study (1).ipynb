{
  "nbformat": 4,
  "nbformat_minor": 0,
  "metadata": {
    "colab": {
      "provenance": []
    },
    "kernelspec": {
      "name": "python3",
      "display_name": "Python 3"
    },
    "language_info": {
      "name": "python"
    }
  },
  "cells": [
    {
      "cell_type": "code",
      "execution_count": 2,
      "metadata": {
        "colab": {
          "base_uri": "https://localhost:8080/",
          "height": 1000
        },
        "id": "G9sCYi5VusJ9",
        "outputId": "86541b72-f2bf-49a4-94db-281bafdc1a6d"
      },
      "outputs": [
        {
          "output_type": "stream",
          "name": "stdout",
          "text": [
            "           ID Date House was Sold  Sale Price  No of Bedrooms  \\\n",
            "0  7129300520     14 October 2017    221900.0               3   \n",
            "1  6414100192    14 December 2017    538000.0               3   \n",
            "2  5631500400    15 February 2016    180000.0               2   \n",
            "3  2487200875    14 December 2017    604000.0               4   \n",
            "4  1954400510    15 February 2016    510000.0               3   \n",
            "\n",
            "   No of Bathrooms  Flat Area (in Sqft)  Lot Area (in Sqft)  No of Floors  \\\n",
            "0             1.00               1180.0              5650.0           1.0   \n",
            "1             2.25               2570.0              7242.0           2.0   \n",
            "2             1.00                770.0             10000.0           1.0   \n",
            "3             3.00               1960.0              5000.0           1.0   \n",
            "4             2.00               1680.0              8080.0           1.0   \n",
            "\n",
            "  Waterfront View No of Times Visited  ... Overall Grade  \\\n",
            "0              No                 NaN  ...             7   \n",
            "1              No                 NaN  ...             7   \n",
            "2              No                 NaN  ...             6   \n",
            "3              No                 NaN  ...             7   \n",
            "4              No                 NaN  ...             8   \n",
            "\n",
            "   Area of the House from Basement (in Sqft)  Basement Area (in Sqft)  \\\n",
            "0                                     1180.0                        0   \n",
            "1                                     2170.0                      400   \n",
            "2                                      770.0                        0   \n",
            "3                                     1050.0                      910   \n",
            "4                                     1680.0                        0   \n",
            "\n",
            "   Age of House (in Years)  Renovated Year  Zipcode  Latitude  Longitude  \\\n",
            "0                       63               0  98178.0   47.5112   -122.257   \n",
            "1                       67            1991  98125.0   47.7210   -122.319   \n",
            "2                       85               0  98028.0   47.7379   -122.233   \n",
            "3                       53               0  98136.0   47.5208   -122.393   \n",
            "4                       31               0  98074.0   47.6168   -122.045   \n",
            "\n",
            "   Living Area after Renovation (in Sqft)  Lot Area after Renovation (in Sqft)  \n",
            "0                                  1340.0                                 5650  \n",
            "1                                  1690.0                                 7639  \n",
            "2                                  2720.0                                 8062  \n",
            "3                                  1360.0                                 5000  \n",
            "4                                  1800.0                                 7503  \n",
            "\n",
            "[5 rows x 21 columns]\n",
            "<class 'pandas.core.frame.DataFrame'>\n",
            "RangeIndex: 21613 entries, 0 to 21612\n",
            "Data columns (total 21 columns):\n",
            " #   Column                                     Non-Null Count  Dtype  \n",
            "---  ------                                     --------------  -----  \n",
            " 0   ID                                         21613 non-null  int64  \n",
            " 1   Date House was Sold                        21613 non-null  object \n",
            " 2   Sale Price                                 21609 non-null  float64\n",
            " 3   No of Bedrooms                             21613 non-null  int64  \n",
            " 4   No of Bathrooms                            21609 non-null  float64\n",
            " 5   Flat Area (in Sqft)                        21604 non-null  float64\n",
            " 6   Lot Area (in Sqft)                         21604 non-null  float64\n",
            " 7   No of Floors                               21613 non-null  float64\n",
            " 8   Waterfront View                            21613 non-null  object \n",
            " 9   No of Times Visited                        2124 non-null   object \n",
            " 10  Condition of the House                     21613 non-null  object \n",
            " 11  Overall Grade                              21613 non-null  int64  \n",
            " 12  Area of the House from Basement (in Sqft)  21610 non-null  float64\n",
            " 13  Basement Area (in Sqft)                    21613 non-null  int64  \n",
            " 14  Age of House (in Years)                    21613 non-null  int64  \n",
            " 15  Renovated Year                             21613 non-null  int64  \n",
            " 16  Zipcode                                    21612 non-null  float64\n",
            " 17  Latitude                                   21612 non-null  float64\n",
            " 18  Longitude                                  21612 non-null  float64\n",
            " 19  Living Area after Renovation (in Sqft)     21612 non-null  float64\n",
            " 20  Lot Area after Renovation (in Sqft)        21613 non-null  int64  \n",
            "dtypes: float64(10), int64(7), object(4)\n",
            "memory usage: 3.5+ MB\n"
          ]
        },
        {
          "output_type": "execute_result",
          "data": {
            "text/plain": [
              "                 ID    Sale Price  No of Bedrooms  No of Bathrooms  \\\n",
              "count  2.161300e+04  2.160900e+04    21613.000000     21609.000000   \n",
              "mean   4.580302e+09  5.401984e+05        3.370842         2.114732   \n",
              "std    2.876566e+09  3.673890e+05        0.930062         0.770138   \n",
              "min    1.000102e+06  7.500000e+04        0.000000         0.000000   \n",
              "25%    2.123049e+09  3.219500e+05        3.000000         1.750000   \n",
              "50%    3.904930e+09  4.500000e+05        3.000000         2.250000   \n",
              "75%    7.308900e+09  6.450000e+05        4.000000         2.500000   \n",
              "max    9.900000e+09  7.700000e+06       33.000000         8.000000   \n",
              "\n",
              "       Flat Area (in Sqft)  Lot Area (in Sqft)  No of Floors  Overall Grade  \\\n",
              "count         21604.000000        2.160400e+04  21613.000000   21613.000000   \n",
              "mean           2079.931772        1.510776e+04      1.494309       7.623467   \n",
              "std             918.487597        4.142827e+04      0.539989       1.105439   \n",
              "min             290.000000        5.200000e+02      1.000000       1.000000   \n",
              "25%            1429.250000        5.040000e+03      1.000000       7.000000   \n",
              "50%            1910.000000        7.617500e+03      1.500000       7.000000   \n",
              "75%            2550.000000        1.068825e+04      2.000000       8.000000   \n",
              "max           13540.000000        1.651359e+06      3.500000      10.000000   \n",
              "\n",
              "       Area of the House from Basement (in Sqft)  Basement Area (in Sqft)  \\\n",
              "count                               21610.000000             21613.000000   \n",
              "mean                                 1788.344193               291.509045   \n",
              "std                                   827.982604               442.575043   \n",
              "min                                   290.000000                 0.000000   \n",
              "25%                                  1190.000000                 0.000000   \n",
              "50%                                  1560.000000                 0.000000   \n",
              "75%                                  2210.000000               560.000000   \n",
              "max                                  9410.000000              4820.000000   \n",
              "\n",
              "       Age of House (in Years)  Renovated Year       Zipcode      Latitude  \\\n",
              "count             21613.000000    21613.000000  21612.000000  21612.000000   \n",
              "mean                 46.994864       84.402258  98077.937766     47.560048   \n",
              "std                  29.373411      401.679240     53.505425      0.138565   \n",
              "min                   3.000000        0.000000  98001.000000     47.155900   \n",
              "25%                  21.000000        0.000000  98033.000000     47.470975   \n",
              "50%                  43.000000        0.000000  98065.000000     47.571800   \n",
              "75%                  67.000000        0.000000  98118.000000     47.678000   \n",
              "max                 118.000000     2015.000000  98199.000000     47.777600   \n",
              "\n",
              "          Longitude  Living Area after Renovation (in Sqft)  \\\n",
              "count  21612.000000                            21612.000000   \n",
              "mean    -122.213892                             1986.538914   \n",
              "std        0.140830                              685.404255   \n",
              "min     -122.519000                              399.000000   \n",
              "25%     -122.328000                             1490.000000   \n",
              "50%     -122.230000                             1840.000000   \n",
              "75%     -122.125000                             2360.000000   \n",
              "max     -121.315000                             6210.000000   \n",
              "\n",
              "       Lot Area after Renovation (in Sqft)  \n",
              "count                         21613.000000  \n",
              "mean                          12768.455652  \n",
              "std                           27304.179631  \n",
              "min                             651.000000  \n",
              "25%                            5100.000000  \n",
              "50%                            7620.000000  \n",
              "75%                           10083.000000  \n",
              "max                          871200.000000  "
            ],
            "text/html": [
              "\n",
              "  <div id=\"df-83669f44-1093-4e54-97df-84cb9aa0a42b\" class=\"colab-df-container\">\n",
              "    <div>\n",
              "<style scoped>\n",
              "    .dataframe tbody tr th:only-of-type {\n",
              "        vertical-align: middle;\n",
              "    }\n",
              "\n",
              "    .dataframe tbody tr th {\n",
              "        vertical-align: top;\n",
              "    }\n",
              "\n",
              "    .dataframe thead th {\n",
              "        text-align: right;\n",
              "    }\n",
              "</style>\n",
              "<table border=\"1\" class=\"dataframe\">\n",
              "  <thead>\n",
              "    <tr style=\"text-align: right;\">\n",
              "      <th></th>\n",
              "      <th>ID</th>\n",
              "      <th>Sale Price</th>\n",
              "      <th>No of Bedrooms</th>\n",
              "      <th>No of Bathrooms</th>\n",
              "      <th>Flat Area (in Sqft)</th>\n",
              "      <th>Lot Area (in Sqft)</th>\n",
              "      <th>No of Floors</th>\n",
              "      <th>Overall Grade</th>\n",
              "      <th>Area of the House from Basement (in Sqft)</th>\n",
              "      <th>Basement Area (in Sqft)</th>\n",
              "      <th>Age of House (in Years)</th>\n",
              "      <th>Renovated Year</th>\n",
              "      <th>Zipcode</th>\n",
              "      <th>Latitude</th>\n",
              "      <th>Longitude</th>\n",
              "      <th>Living Area after Renovation (in Sqft)</th>\n",
              "      <th>Lot Area after Renovation (in Sqft)</th>\n",
              "    </tr>\n",
              "  </thead>\n",
              "  <tbody>\n",
              "    <tr>\n",
              "      <th>count</th>\n",
              "      <td>2.161300e+04</td>\n",
              "      <td>2.160900e+04</td>\n",
              "      <td>21613.000000</td>\n",
              "      <td>21609.000000</td>\n",
              "      <td>21604.000000</td>\n",
              "      <td>2.160400e+04</td>\n",
              "      <td>21613.000000</td>\n",
              "      <td>21613.000000</td>\n",
              "      <td>21610.000000</td>\n",
              "      <td>21613.000000</td>\n",
              "      <td>21613.000000</td>\n",
              "      <td>21613.000000</td>\n",
              "      <td>21612.000000</td>\n",
              "      <td>21612.000000</td>\n",
              "      <td>21612.000000</td>\n",
              "      <td>21612.000000</td>\n",
              "      <td>21613.000000</td>\n",
              "    </tr>\n",
              "    <tr>\n",
              "      <th>mean</th>\n",
              "      <td>4.580302e+09</td>\n",
              "      <td>5.401984e+05</td>\n",
              "      <td>3.370842</td>\n",
              "      <td>2.114732</td>\n",
              "      <td>2079.931772</td>\n",
              "      <td>1.510776e+04</td>\n",
              "      <td>1.494309</td>\n",
              "      <td>7.623467</td>\n",
              "      <td>1788.344193</td>\n",
              "      <td>291.509045</td>\n",
              "      <td>46.994864</td>\n",
              "      <td>84.402258</td>\n",
              "      <td>98077.937766</td>\n",
              "      <td>47.560048</td>\n",
              "      <td>-122.213892</td>\n",
              "      <td>1986.538914</td>\n",
              "      <td>12768.455652</td>\n",
              "    </tr>\n",
              "    <tr>\n",
              "      <th>std</th>\n",
              "      <td>2.876566e+09</td>\n",
              "      <td>3.673890e+05</td>\n",
              "      <td>0.930062</td>\n",
              "      <td>0.770138</td>\n",
              "      <td>918.487597</td>\n",
              "      <td>4.142827e+04</td>\n",
              "      <td>0.539989</td>\n",
              "      <td>1.105439</td>\n",
              "      <td>827.982604</td>\n",
              "      <td>442.575043</td>\n",
              "      <td>29.373411</td>\n",
              "      <td>401.679240</td>\n",
              "      <td>53.505425</td>\n",
              "      <td>0.138565</td>\n",
              "      <td>0.140830</td>\n",
              "      <td>685.404255</td>\n",
              "      <td>27304.179631</td>\n",
              "    </tr>\n",
              "    <tr>\n",
              "      <th>min</th>\n",
              "      <td>1.000102e+06</td>\n",
              "      <td>7.500000e+04</td>\n",
              "      <td>0.000000</td>\n",
              "      <td>0.000000</td>\n",
              "      <td>290.000000</td>\n",
              "      <td>5.200000e+02</td>\n",
              "      <td>1.000000</td>\n",
              "      <td>1.000000</td>\n",
              "      <td>290.000000</td>\n",
              "      <td>0.000000</td>\n",
              "      <td>3.000000</td>\n",
              "      <td>0.000000</td>\n",
              "      <td>98001.000000</td>\n",
              "      <td>47.155900</td>\n",
              "      <td>-122.519000</td>\n",
              "      <td>399.000000</td>\n",
              "      <td>651.000000</td>\n",
              "    </tr>\n",
              "    <tr>\n",
              "      <th>25%</th>\n",
              "      <td>2.123049e+09</td>\n",
              "      <td>3.219500e+05</td>\n",
              "      <td>3.000000</td>\n",
              "      <td>1.750000</td>\n",
              "      <td>1429.250000</td>\n",
              "      <td>5.040000e+03</td>\n",
              "      <td>1.000000</td>\n",
              "      <td>7.000000</td>\n",
              "      <td>1190.000000</td>\n",
              "      <td>0.000000</td>\n",
              "      <td>21.000000</td>\n",
              "      <td>0.000000</td>\n",
              "      <td>98033.000000</td>\n",
              "      <td>47.470975</td>\n",
              "      <td>-122.328000</td>\n",
              "      <td>1490.000000</td>\n",
              "      <td>5100.000000</td>\n",
              "    </tr>\n",
              "    <tr>\n",
              "      <th>50%</th>\n",
              "      <td>3.904930e+09</td>\n",
              "      <td>4.500000e+05</td>\n",
              "      <td>3.000000</td>\n",
              "      <td>2.250000</td>\n",
              "      <td>1910.000000</td>\n",
              "      <td>7.617500e+03</td>\n",
              "      <td>1.500000</td>\n",
              "      <td>7.000000</td>\n",
              "      <td>1560.000000</td>\n",
              "      <td>0.000000</td>\n",
              "      <td>43.000000</td>\n",
              "      <td>0.000000</td>\n",
              "      <td>98065.000000</td>\n",
              "      <td>47.571800</td>\n",
              "      <td>-122.230000</td>\n",
              "      <td>1840.000000</td>\n",
              "      <td>7620.000000</td>\n",
              "    </tr>\n",
              "    <tr>\n",
              "      <th>75%</th>\n",
              "      <td>7.308900e+09</td>\n",
              "      <td>6.450000e+05</td>\n",
              "      <td>4.000000</td>\n",
              "      <td>2.500000</td>\n",
              "      <td>2550.000000</td>\n",
              "      <td>1.068825e+04</td>\n",
              "      <td>2.000000</td>\n",
              "      <td>8.000000</td>\n",
              "      <td>2210.000000</td>\n",
              "      <td>560.000000</td>\n",
              "      <td>67.000000</td>\n",
              "      <td>0.000000</td>\n",
              "      <td>98118.000000</td>\n",
              "      <td>47.678000</td>\n",
              "      <td>-122.125000</td>\n",
              "      <td>2360.000000</td>\n",
              "      <td>10083.000000</td>\n",
              "    </tr>\n",
              "    <tr>\n",
              "      <th>max</th>\n",
              "      <td>9.900000e+09</td>\n",
              "      <td>7.700000e+06</td>\n",
              "      <td>33.000000</td>\n",
              "      <td>8.000000</td>\n",
              "      <td>13540.000000</td>\n",
              "      <td>1.651359e+06</td>\n",
              "      <td>3.500000</td>\n",
              "      <td>10.000000</td>\n",
              "      <td>9410.000000</td>\n",
              "      <td>4820.000000</td>\n",
              "      <td>118.000000</td>\n",
              "      <td>2015.000000</td>\n",
              "      <td>98199.000000</td>\n",
              "      <td>47.777600</td>\n",
              "      <td>-121.315000</td>\n",
              "      <td>6210.000000</td>\n",
              "      <td>871200.000000</td>\n",
              "    </tr>\n",
              "  </tbody>\n",
              "</table>\n",
              "</div>\n",
              "    <div class=\"colab-df-buttons\">\n",
              "\n",
              "  <div class=\"colab-df-container\">\n",
              "    <button class=\"colab-df-convert\" onclick=\"convertToInteractive('df-83669f44-1093-4e54-97df-84cb9aa0a42b')\"\n",
              "            title=\"Convert this dataframe to an interactive table.\"\n",
              "            style=\"display:none;\">\n",
              "\n",
              "  <svg xmlns=\"http://www.w3.org/2000/svg\" height=\"24px\" viewBox=\"0 -960 960 960\">\n",
              "    <path d=\"M120-120v-720h720v720H120Zm60-500h600v-160H180v160Zm220 220h160v-160H400v160Zm0 220h160v-160H400v160ZM180-400h160v-160H180v160Zm440 0h160v-160H620v160ZM180-180h160v-160H180v160Zm440 0h160v-160H620v160Z\"/>\n",
              "  </svg>\n",
              "    </button>\n",
              "\n",
              "  <style>\n",
              "    .colab-df-container {\n",
              "      display:flex;\n",
              "      gap: 12px;\n",
              "    }\n",
              "\n",
              "    .colab-df-convert {\n",
              "      background-color: #E8F0FE;\n",
              "      border: none;\n",
              "      border-radius: 50%;\n",
              "      cursor: pointer;\n",
              "      display: none;\n",
              "      fill: #1967D2;\n",
              "      height: 32px;\n",
              "      padding: 0 0 0 0;\n",
              "      width: 32px;\n",
              "    }\n",
              "\n",
              "    .colab-df-convert:hover {\n",
              "      background-color: #E2EBFA;\n",
              "      box-shadow: 0px 1px 2px rgba(60, 64, 67, 0.3), 0px 1px 3px 1px rgba(60, 64, 67, 0.15);\n",
              "      fill: #174EA6;\n",
              "    }\n",
              "\n",
              "    .colab-df-buttons div {\n",
              "      margin-bottom: 4px;\n",
              "    }\n",
              "\n",
              "    [theme=dark] .colab-df-convert {\n",
              "      background-color: #3B4455;\n",
              "      fill: #D2E3FC;\n",
              "    }\n",
              "\n",
              "    [theme=dark] .colab-df-convert:hover {\n",
              "      background-color: #434B5C;\n",
              "      box-shadow: 0px 1px 3px 1px rgba(0, 0, 0, 0.15);\n",
              "      filter: drop-shadow(0px 1px 2px rgba(0, 0, 0, 0.3));\n",
              "      fill: #FFFFFF;\n",
              "    }\n",
              "  </style>\n",
              "\n",
              "    <script>\n",
              "      const buttonEl =\n",
              "        document.querySelector('#df-83669f44-1093-4e54-97df-84cb9aa0a42b button.colab-df-convert');\n",
              "      buttonEl.style.display =\n",
              "        google.colab.kernel.accessAllowed ? 'block' : 'none';\n",
              "\n",
              "      async function convertToInteractive(key) {\n",
              "        const element = document.querySelector('#df-83669f44-1093-4e54-97df-84cb9aa0a42b');\n",
              "        const dataTable =\n",
              "          await google.colab.kernel.invokeFunction('convertToInteractive',\n",
              "                                                    [key], {});\n",
              "        if (!dataTable) return;\n",
              "\n",
              "        const docLinkHtml = 'Like what you see? Visit the ' +\n",
              "          '<a target=\"_blank\" href=https://colab.research.google.com/notebooks/data_table.ipynb>data table notebook</a>'\n",
              "          + ' to learn more about interactive tables.';\n",
              "        element.innerHTML = '';\n",
              "        dataTable['output_type'] = 'display_data';\n",
              "        await google.colab.output.renderOutput(dataTable, element);\n",
              "        const docLink = document.createElement('div');\n",
              "        docLink.innerHTML = docLinkHtml;\n",
              "        element.appendChild(docLink);\n",
              "      }\n",
              "    </script>\n",
              "  </div>\n",
              "\n",
              "\n",
              "    <div id=\"df-7b6ee617-bcc4-486b-b368-c9624f7859e5\">\n",
              "      <button class=\"colab-df-quickchart\" onclick=\"quickchart('df-7b6ee617-bcc4-486b-b368-c9624f7859e5')\"\n",
              "                title=\"Suggest charts\"\n",
              "                style=\"display:none;\">\n",
              "\n",
              "<svg xmlns=\"http://www.w3.org/2000/svg\" height=\"24px\"viewBox=\"0 0 24 24\"\n",
              "     width=\"24px\">\n",
              "    <g>\n",
              "        <path d=\"M19 3H5c-1.1 0-2 .9-2 2v14c0 1.1.9 2 2 2h14c1.1 0 2-.9 2-2V5c0-1.1-.9-2-2-2zM9 17H7v-7h2v7zm4 0h-2V7h2v10zm4 0h-2v-4h2v4z\"/>\n",
              "    </g>\n",
              "</svg>\n",
              "      </button>\n",
              "\n",
              "<style>\n",
              "  .colab-df-quickchart {\n",
              "      --bg-color: #E8F0FE;\n",
              "      --fill-color: #1967D2;\n",
              "      --hover-bg-color: #E2EBFA;\n",
              "      --hover-fill-color: #174EA6;\n",
              "      --disabled-fill-color: #AAA;\n",
              "      --disabled-bg-color: #DDD;\n",
              "  }\n",
              "\n",
              "  [theme=dark] .colab-df-quickchart {\n",
              "      --bg-color: #3B4455;\n",
              "      --fill-color: #D2E3FC;\n",
              "      --hover-bg-color: #434B5C;\n",
              "      --hover-fill-color: #FFFFFF;\n",
              "      --disabled-bg-color: #3B4455;\n",
              "      --disabled-fill-color: #666;\n",
              "  }\n",
              "\n",
              "  .colab-df-quickchart {\n",
              "    background-color: var(--bg-color);\n",
              "    border: none;\n",
              "    border-radius: 50%;\n",
              "    cursor: pointer;\n",
              "    display: none;\n",
              "    fill: var(--fill-color);\n",
              "    height: 32px;\n",
              "    padding: 0;\n",
              "    width: 32px;\n",
              "  }\n",
              "\n",
              "  .colab-df-quickchart:hover {\n",
              "    background-color: var(--hover-bg-color);\n",
              "    box-shadow: 0 1px 2px rgba(60, 64, 67, 0.3), 0 1px 3px 1px rgba(60, 64, 67, 0.15);\n",
              "    fill: var(--button-hover-fill-color);\n",
              "  }\n",
              "\n",
              "  .colab-df-quickchart-complete:disabled,\n",
              "  .colab-df-quickchart-complete:disabled:hover {\n",
              "    background-color: var(--disabled-bg-color);\n",
              "    fill: var(--disabled-fill-color);\n",
              "    box-shadow: none;\n",
              "  }\n",
              "\n",
              "  .colab-df-spinner {\n",
              "    border: 2px solid var(--fill-color);\n",
              "    border-color: transparent;\n",
              "    border-bottom-color: var(--fill-color);\n",
              "    animation:\n",
              "      spin 1s steps(1) infinite;\n",
              "  }\n",
              "\n",
              "  @keyframes spin {\n",
              "    0% {\n",
              "      border-color: transparent;\n",
              "      border-bottom-color: var(--fill-color);\n",
              "      border-left-color: var(--fill-color);\n",
              "    }\n",
              "    20% {\n",
              "      border-color: transparent;\n",
              "      border-left-color: var(--fill-color);\n",
              "      border-top-color: var(--fill-color);\n",
              "    }\n",
              "    30% {\n",
              "      border-color: transparent;\n",
              "      border-left-color: var(--fill-color);\n",
              "      border-top-color: var(--fill-color);\n",
              "      border-right-color: var(--fill-color);\n",
              "    }\n",
              "    40% {\n",
              "      border-color: transparent;\n",
              "      border-right-color: var(--fill-color);\n",
              "      border-top-color: var(--fill-color);\n",
              "    }\n",
              "    60% {\n",
              "      border-color: transparent;\n",
              "      border-right-color: var(--fill-color);\n",
              "    }\n",
              "    80% {\n",
              "      border-color: transparent;\n",
              "      border-right-color: var(--fill-color);\n",
              "      border-bottom-color: var(--fill-color);\n",
              "    }\n",
              "    90% {\n",
              "      border-color: transparent;\n",
              "      border-bottom-color: var(--fill-color);\n",
              "    }\n",
              "  }\n",
              "</style>\n",
              "\n",
              "      <script>\n",
              "        async function quickchart(key) {\n",
              "          const quickchartButtonEl =\n",
              "            document.querySelector('#' + key + ' button');\n",
              "          quickchartButtonEl.disabled = true;  // To prevent multiple clicks.\n",
              "          quickchartButtonEl.classList.add('colab-df-spinner');\n",
              "          try {\n",
              "            const charts = await google.colab.kernel.invokeFunction(\n",
              "                'suggestCharts', [key], {});\n",
              "          } catch (error) {\n",
              "            console.error('Error during call to suggestCharts:', error);\n",
              "          }\n",
              "          quickchartButtonEl.classList.remove('colab-df-spinner');\n",
              "          quickchartButtonEl.classList.add('colab-df-quickchart-complete');\n",
              "        }\n",
              "        (() => {\n",
              "          let quickchartButtonEl =\n",
              "            document.querySelector('#df-7b6ee617-bcc4-486b-b368-c9624f7859e5 button');\n",
              "          quickchartButtonEl.style.display =\n",
              "            google.colab.kernel.accessAllowed ? 'block' : 'none';\n",
              "        })();\n",
              "      </script>\n",
              "    </div>\n",
              "\n",
              "    </div>\n",
              "  </div>\n"
            ],
            "application/vnd.google.colaboratory.intrinsic+json": {
              "type": "dataframe",
              "summary": "{\n  \"name\": \"df\",\n  \"rows\": 8,\n  \"fields\": [\n    {\n      \"column\": \"ID\",\n      \"properties\": {\n        \"dtype\": \"number\",\n        \"std\": 3436537616.4100037,\n        \"min\": 21613.0,\n        \"max\": 9900000190.0,\n        \"num_unique_values\": 8,\n        \"samples\": [\n          4580301520.864988,\n          3904930410.0,\n          21613.0\n        ],\n        \"semantic_type\": \"\",\n        \"description\": \"\"\n      }\n    },\n    {\n      \"column\": \"Sale Price\",\n      \"properties\": {\n        \"dtype\": \"number\",\n        \"std\": 2608786.174830465,\n        \"min\": 21609.0,\n        \"max\": 7700000.0,\n        \"num_unique_values\": 8,\n        \"samples\": [\n          540198.4357443658,\n          450000.0,\n          21609.0\n        ],\n        \"semantic_type\": \"\",\n        \"description\": \"\"\n      }\n    },\n    {\n      \"column\": \"No of Bedrooms\",\n      \"properties\": {\n        \"dtype\": \"number\",\n        \"std\": 7638.968000831243,\n        \"min\": 0.0,\n        \"max\": 21613.0,\n        \"num_unique_values\": 7,\n        \"samples\": [\n          21613.0,\n          3.37084162309721,\n          4.0\n        ],\n        \"semantic_type\": \"\",\n        \"description\": \"\"\n      }\n    },\n    {\n      \"column\": \"No of Bathrooms\",\n      \"properties\": {\n        \"dtype\": \"number\",\n        \"std\": 7639.057525250228,\n        \"min\": 0.0,\n        \"max\": 21609.0,\n        \"num_unique_values\": 8,\n        \"samples\": [\n          2.1147322874728123,\n          2.25,\n          21609.0\n        ],\n        \"semantic_type\": \"\",\n        \"description\": \"\"\n      }\n    },\n    {\n      \"column\": \"Flat Area (in Sqft)\",\n      \"properties\": {\n        \"dtype\": \"number\",\n        \"std\": 7764.022431796291,\n        \"min\": 290.0,\n        \"max\": 21604.0,\n        \"num_unique_values\": 8,\n        \"samples\": [\n          2079.931771894094,\n          1910.0,\n          21604.0\n        ],\n        \"semantic_type\": \"\",\n        \"description\": \"\"\n      }\n    },\n    {\n      \"column\": \"Lot Area (in Sqft)\",\n      \"properties\": {\n        \"dtype\": \"number\",\n        \"std\": 578830.0711427884,\n        \"min\": 520.0,\n        \"max\": 1651359.0,\n        \"num_unique_values\": 8,\n        \"samples\": [\n          15107.75689687095,\n          7617.5,\n          21604.0\n        ],\n        \"semantic_type\": \"\",\n        \"description\": \"\"\n      }\n    },\n    {\n      \"column\": \"No of Floors\",\n      \"properties\": {\n        \"dtype\": \"number\",\n        \"std\": 7640.792167327785,\n        \"min\": 0.5399888951423824,\n        \"max\": 21613.0,\n        \"num_unique_values\": 7,\n        \"samples\": [\n          21613.0,\n          1.4943089807060566,\n          2.0\n        ],\n        \"semantic_type\": \"\",\n        \"description\": \"\"\n      }\n    },\n    {\n      \"column\": \"Overall Grade\",\n      \"properties\": {\n        \"dtype\": \"number\",\n        \"std\": 7639.242490838072,\n        \"min\": 1.0,\n        \"max\": 21613.0,\n        \"num_unique_values\": 7,\n        \"samples\": [\n          21613.0,\n          7.623467357608846,\n          8.0\n        ],\n        \"semantic_type\": \"\",\n        \"description\": \"\"\n      }\n    },\n    {\n      \"column\": \"Area of the House from Basement (in Sqft)\",\n      \"properties\": {\n        \"dtype\": \"number\",\n        \"std\": 7360.352560244622,\n        \"min\": 290.0,\n        \"max\": 21610.0,\n        \"num_unique_values\": 8,\n        \"samples\": [\n          1788.3441925034706,\n          1560.0,\n          21610.0\n        ],\n        \"semantic_type\": \"\",\n        \"description\": \"\"\n      }\n    },\n    {\n      \"column\": \"Basement Area (in Sqft)\",\n      \"properties\": {\n        \"dtype\": \"number\",\n        \"std\": 7510.46622281216,\n        \"min\": 0.0,\n        \"max\": 21613.0,\n        \"num_unique_values\": 6,\n        \"samples\": [\n          21613.0,\n          291.5090454818859,\n          4820.0\n        ],\n        \"semantic_type\": \"\",\n        \"description\": \"\"\n      }\n    },\n    {\n      \"column\": \"Age of House (in Years)\",\n      \"properties\": {\n        \"dtype\": \"number\",\n        \"std\": 7624.842828282728,\n        \"min\": 3.0,\n        \"max\": 21613.0,\n        \"num_unique_values\": 8,\n        \"samples\": [\n          46.99486420210059,\n          43.0,\n          21613.0\n        ],\n        \"semantic_type\": \"\",\n        \"description\": \"\"\n      }\n    },\n    {\n      \"column\": \"Renovated Year\",\n      \"properties\": {\n        \"dtype\": \"number\",\n        \"std\": 7546.6581832335705,\n        \"min\": 0.0,\n        \"max\": 21613.0,\n        \"num_unique_values\": 5,\n        \"samples\": [\n          84.40225790033776,\n          2015.0,\n          401.6792400190783\n        ],\n        \"semantic_type\": \"\",\n        \"description\": \"\"\n      }\n    },\n    {\n      \"column\": \"Zipcode\",\n      \"properties\": {\n        \"dtype\": \"number\",\n        \"std\": 40797.65374717193,\n        \"min\": 53.50542468178715,\n        \"max\": 98199.0,\n        \"num_unique_values\": 8,\n        \"samples\": [\n          98077.9377660559,\n          98065.0,\n          21612.0\n        ],\n        \"semantic_type\": \"\",\n        \"description\": \"\"\n      }\n    },\n    {\n      \"column\": \"Latitude\",\n      \"properties\": {\n        \"dtype\": \"number\",\n        \"std\": 7626.6014166665655,\n        \"min\": 0.13856503113250904,\n        \"max\": 21612.0,\n        \"num_unique_values\": 8,\n        \"samples\": [\n          47.56004760318341,\n          47.5718,\n          21612.0\n        ],\n        \"semantic_type\": \"\",\n        \"description\": \"\"\n      }\n    },\n    {\n      \"column\": \"Longitude\",\n      \"properties\": {\n        \"dtype\": \"number\",\n        \"std\": 7678.116467287857,\n        \"min\": -122.519,\n        \"max\": 21612.0,\n        \"num_unique_values\": 8,\n        \"samples\": [\n          -122.21389154173606,\n          -122.23,\n          21612.0\n        ],\n        \"semantic_type\": \"\",\n        \"description\": \"\"\n      }\n    },\n    {\n      \"column\": \"Living Area after Renovation (in Sqft)\",\n      \"properties\": {\n        \"dtype\": \"number\",\n        \"std\": 7112.406609894805,\n        \"min\": 399.0,\n        \"max\": 21612.0,\n        \"num_unique_values\": 8,\n        \"samples\": [\n          1986.538913566537,\n          1840.0,\n          21612.0\n        ],\n        \"semantic_type\": \"\",\n        \"description\": \"\"\n      }\n    },\n    {\n      \"column\": \"Lot Area after Renovation (in Sqft)\",\n      \"properties\": {\n        \"dtype\": \"number\",\n        \"std\": 303839.26467140246,\n        \"min\": 651.0,\n        \"max\": 871200.0,\n        \"num_unique_values\": 8,\n        \"samples\": [\n          12768.455651691113,\n          7620.0,\n          21613.0\n        ],\n        \"semantic_type\": \"\",\n        \"description\": \"\"\n      }\n    }\n  ]\n}"
            }
          },
          "metadata": {},
          "execution_count": 2
        }
      ],
      "source": [
        "import pandas as pd\n",
        "df = pd.read_csv('House_Pricing.csv')\n",
        "print(df.head())\n",
        "df.info()\n",
        "df.describe()"
      ]
    },
    {
      "cell_type": "markdown",
      "source": [
        "Duplicate Removal"
      ],
      "metadata": {
        "id": "-_kIElQrvsD1"
      }
    },
    {
      "cell_type": "code",
      "source": [
        "num_duplicates = df.duplicated().sum()\n",
        "print(f\"Number of duplicate rows: {num_duplicates}\")\n",
        "df = df.drop_duplicates()"
      ],
      "metadata": {
        "colab": {
          "base_uri": "https://localhost:8080/"
        },
        "id": "RZjgfNe8vqDW",
        "outputId": "3b6d8e89-a2d0-4ef0-bc53-832ae2dff067"
      },
      "execution_count": 3,
      "outputs": [
        {
          "output_type": "stream",
          "name": "stdout",
          "text": [
            "Number of duplicate rows: 0\n"
          ]
        }
      ]
    },
    {
      "cell_type": "code",
      "source": [
        "df_transposed = df.T\n",
        "duplicate_rows = df_transposed.duplicated()\n",
        "columns_to_drop = df_transposed[duplicate_rows].index\n",
        "df = df.drop(columns=columns_to_drop)"
      ],
      "metadata": {
        "id": "s_njOIzTwEqZ"
      },
      "execution_count": 4,
      "outputs": []
    },
    {
      "cell_type": "markdown",
      "source": [
        "Missing Values"
      ],
      "metadata": {
        "id": "MbgOLnAswWHG"
      }
    },
    {
      "cell_type": "code",
      "source": [
        "missing_values = df.isnull().sum()\n",
        "print(missing_values[missing_values > 0])"
      ],
      "metadata": {
        "colab": {
          "base_uri": "https://localhost:8080/"
        },
        "id": "4DhGp6dqwVy2",
        "outputId": "ce207a52-ab24-4fbe-de6a-a1b14d5a1cf7"
      },
      "execution_count": 5,
      "outputs": [
        {
          "output_type": "stream",
          "name": "stdout",
          "text": [
            "Sale Price                                       4\n",
            "No of Bathrooms                                  4\n",
            "Flat Area (in Sqft)                              9\n",
            "Lot Area (in Sqft)                               9\n",
            "No of Times Visited                          19489\n",
            "Area of the House from Basement (in Sqft)        3\n",
            "Zipcode                                          1\n",
            "Latitude                                         1\n",
            "Longitude                                        1\n",
            "Living Area after Renovation (in Sqft)           1\n",
            "dtype: int64\n"
          ]
        }
      ]
    },
    {
      "cell_type": "markdown",
      "source": [
        "Numerical Columns"
      ],
      "metadata": {
        "id": "pShkc7zgwwrq"
      }
    },
    {
      "cell_type": "code",
      "source": [
        "for column in df.select_dtypes(include=['number']).columns:\n",
        "    if df[column].isnull().any():\n",
        "        imputation_value = df[column].median()\n",
        "        df[column].fillna(imputation_value, inplace=True)\n",
        "        print(f\"Imputed missing values in column '{column}' with median: {imputation_value}\")\n"
      ],
      "metadata": {
        "colab": {
          "base_uri": "https://localhost:8080/"
        },
        "id": "3GylskPUwwUZ",
        "outputId": "8da563c9-df8c-4e97-efb7-b30e0d071d34"
      },
      "execution_count": 6,
      "outputs": [
        {
          "output_type": "stream",
          "name": "stdout",
          "text": [
            "Imputed missing values in column 'Sale Price' with median: 450000.0\n",
            "Imputed missing values in column 'No of Bathrooms' with median: 2.25\n",
            "Imputed missing values in column 'Flat Area (in Sqft)' with median: 1910.0\n",
            "Imputed missing values in column 'Lot Area (in Sqft)' with median: 7617.5\n",
            "Imputed missing values in column 'Area of the House from Basement (in Sqft)' with median: 1560.0\n",
            "Imputed missing values in column 'Zipcode' with median: 98065.0\n",
            "Imputed missing values in column 'Latitude' with median: 47.5718\n",
            "Imputed missing values in column 'Longitude' with median: -122.23\n",
            "Imputed missing values in column 'Living Area after Renovation (in Sqft)' with median: 1840.0\n"
          ]
        },
        {
          "output_type": "stream",
          "name": "stderr",
          "text": [
            "<ipython-input-6-d96c2d3106b7>:4: FutureWarning: A value is trying to be set on a copy of a DataFrame or Series through chained assignment using an inplace method.\n",
            "The behavior will change in pandas 3.0. This inplace method will never work because the intermediate object on which we are setting values always behaves as a copy.\n",
            "\n",
            "For example, when doing 'df[col].method(value, inplace=True)', try using 'df.method({col: value}, inplace=True)' or df[col] = df[col].method(value) instead, to perform the operation inplace on the original object.\n",
            "\n",
            "\n",
            "  df[column].fillna(imputation_value, inplace=True)\n"
          ]
        }
      ]
    },
    {
      "cell_type": "markdown",
      "source": [
        "In Numerical Columns missing values were imputed using the median"
      ],
      "metadata": {
        "id": "ELOP3dI3ylNy"
      }
    },
    {
      "cell_type": "markdown",
      "source": [
        "Categorical Columns"
      ],
      "metadata": {
        "id": "DhCf0wIHx-NY"
      }
    },
    {
      "cell_type": "code",
      "source": [
        "for column in df.select_dtypes(include=['object']).columns:\n",
        "    if df[column].isnull().any():\n",
        "        mode = df[column].mode()[0]\n",
        "        df[column] = df[column].fillna(mode)\n",
        "        print(f\"Imputed missing values in '{column}' with mode: {mode}\")"
      ],
      "metadata": {
        "colab": {
          "base_uri": "https://localhost:8080/"
        },
        "id": "oKisfyi6yBND",
        "outputId": "6597cdc6-7ad3-4b92-b6f7-9185ae746e7a"
      },
      "execution_count": 7,
      "outputs": [
        {
          "output_type": "stream",
          "name": "stdout",
          "text": [
            "Imputed missing values in 'No of Times Visited' with mode: Twice\n"
          ]
        }
      ]
    },
    {
      "cell_type": "markdown",
      "source": [
        "In Categorical Columns missing values were filled with the mode(most frequent category)"
      ],
      "metadata": {
        "id": "3xwn-Yhpy1eJ"
      }
    },
    {
      "cell_type": "markdown",
      "source": [
        "MinMax Scaler"
      ],
      "metadata": {
        "id": "mH3k0aC0Sv-A"
      }
    },
    {
      "cell_type": "code",
      "source": [
        "from sklearn.preprocessing import MinMaxScaler\n",
        "numerical_cols = df.select_dtypes(include=['number']).columns.tolist()\n",
        "if 'Sale Price' in numerical_cols:\n",
        "    numerical_cols.remove('Sale Price')\n",
        "scaler = MinMaxScaler()\n",
        "df[numerical_cols] = scaler.fit_transform(df[numerical_cols])\n",
        "print(df.head())"
      ],
      "metadata": {
        "id": "BWzoYwKky_eL",
        "colab": {
          "base_uri": "https://localhost:8080/"
        },
        "outputId": "835c2e3b-fcdf-416d-cdb8-f0079bd3723c"
      },
      "execution_count": 9,
      "outputs": [
        {
          "output_type": "stream",
          "name": "stdout",
          "text": [
            "         ID Date House was Sold  Sale Price  No of Bedrooms  No of Bathrooms  \\\n",
            "0  0.720103     14 October 2017    221900.0        0.090909          0.12500   \n",
            "1  0.647853    14 December 2017    538000.0        0.090909          0.28125   \n",
            "2  0.568795    15 February 2016    180000.0        0.060606          0.12500   \n",
            "3  0.251157    14 December 2017    604000.0        0.121212          0.37500   \n",
            "4  0.197333    15 February 2016    510000.0        0.090909          0.25000   \n",
            "\n",
            "   Flat Area (in Sqft)  Lot Area (in Sqft)  No of Floors Waterfront View  \\\n",
            "0             0.067170            0.003108           0.0              No   \n",
            "1             0.172075            0.004072           0.4              No   \n",
            "2             0.036226            0.005743           0.0              No   \n",
            "3             0.126038            0.002714           0.0              No   \n",
            "4             0.104906            0.004579           0.0              No   \n",
            "\n",
            "  No of Times Visited  ... Overall Grade  \\\n",
            "0               Twice  ...      0.666667   \n",
            "1               Twice  ...      0.666667   \n",
            "2               Twice  ...      0.555556   \n",
            "3               Twice  ...      0.666667   \n",
            "4               Twice  ...      0.777778   \n",
            "\n",
            "   Area of the House from Basement (in Sqft)  Basement Area (in Sqft)  \\\n",
            "0                                   0.097588                 0.000000   \n",
            "1                                   0.206140                 0.082988   \n",
            "2                                   0.052632                 0.000000   \n",
            "3                                   0.083333                 0.188797   \n",
            "4                                   0.152412                 0.000000   \n",
            "\n",
            "   Age of House (in Years)  Renovated Year   Zipcode  Latitude  Longitude  \\\n",
            "0                 0.521739        0.000000  0.893939  0.571498   0.217608   \n",
            "1                 0.556522        0.988089  0.626263  0.908959   0.166113   \n",
            "2                 0.713043        0.000000  0.136364  0.936143   0.237542   \n",
            "3                 0.434783        0.000000  0.681818  0.586939   0.104651   \n",
            "4                 0.243478        0.000000  0.368687  0.741354   0.393688   \n",
            "\n",
            "   Living Area after Renovation (in Sqft)  Lot Area after Renovation (in Sqft)  \n",
            "0                                0.161934                             0.005742  \n",
            "1                                0.222165                             0.008027  \n",
            "2                                0.399415                             0.008513  \n",
            "3                                0.165376                             0.004996  \n",
            "4                                0.241094                             0.007871  \n",
            "\n",
            "[5 rows x 21 columns]\n"
          ]
        }
      ]
    },
    {
      "cell_type": "markdown",
      "source": [
        "Encoding"
      ],
      "metadata": {
        "id": "R7hSA1P3Tg55"
      }
    },
    {
      "cell_type": "code",
      "source": [
        "import pandas as pd\n",
        "from sklearn.preprocessing import LabelEncoder\n",
        "\n",
        "categorical_cols = df.select_dtypes(include=['object']).columns.tolist()\n",
        "df = pd.get_dummies(df, columns=categorical_cols, dummy_na=False)\n",
        "print(df.head())"
      ],
      "metadata": {
        "colab": {
          "base_uri": "https://localhost:8080/"
        },
        "id": "vb78w3-KTYuv",
        "outputId": "d2ef5538-4999-4066-baad-0e3480371975"
      },
      "execution_count": 11,
      "outputs": [
        {
          "output_type": "stream",
          "name": "stdout",
          "text": [
            "         ID  Sale Price  No of Bedrooms  No of Bathrooms  Flat Area (in Sqft)  \\\n",
            "0  0.720103    221900.0        0.090909          0.12500             0.067170   \n",
            "1  0.647853    538000.0        0.090909          0.28125             0.172075   \n",
            "2  0.568795    180000.0        0.060606          0.12500             0.036226   \n",
            "3  0.251157    604000.0        0.121212          0.37500             0.126038   \n",
            "4  0.197333    510000.0        0.090909          0.25000             0.104906   \n",
            "\n",
            "   Lot Area (in Sqft)  No of Floors  Overall Grade  \\\n",
            "0            0.003108           0.0       0.666667   \n",
            "1            0.004072           0.4       0.666667   \n",
            "2            0.005743           0.0       0.555556   \n",
            "3            0.002714           0.0       0.666667   \n",
            "4            0.004579           0.0       0.777778   \n",
            "\n",
            "   Area of the House from Basement (in Sqft)  Basement Area (in Sqft)  ...  \\\n",
            "0                                   0.097588                 0.000000  ...   \n",
            "1                                   0.206140                 0.082988  ...   \n",
            "2                                   0.052632                 0.000000  ...   \n",
            "3                                   0.083333                 0.188797  ...   \n",
            "4                                   0.152412                 0.000000  ...   \n",
            "\n",
            "   Waterfront View_Yes  No of Times Visited_Four  No of Times Visited_Once  \\\n",
            "0                False                     False                     False   \n",
            "1                False                     False                     False   \n",
            "2                False                     False                     False   \n",
            "3                False                     False                     False   \n",
            "4                False                     False                     False   \n",
            "\n",
            "   No of Times Visited_Thrice  No of Times Visited_Twice  \\\n",
            "0                       False                       True   \n",
            "1                       False                       True   \n",
            "2                       False                       True   \n",
            "3                       False                       True   \n",
            "4                       False                       True   \n",
            "\n",
            "   Condition of the House_Bad  Condition of the House_Excellent  \\\n",
            "0                       False                             False   \n",
            "1                       False                             False   \n",
            "2                       False                             False   \n",
            "3                       False                              True   \n",
            "4                       False                             False   \n",
            "\n",
            "   Condition of the House_Fair  Condition of the House_Good  \\\n",
            "0                         True                        False   \n",
            "1                         True                        False   \n",
            "2                         True                        False   \n",
            "3                        False                        False   \n",
            "4                         True                        False   \n",
            "\n",
            "   Condition of the House_Okay  \n",
            "0                        False  \n",
            "1                        False  \n",
            "2                        False  \n",
            "3                        False  \n",
            "4                        False  \n",
            "\n",
            "[5 rows x 41 columns]\n"
          ]
        }
      ]
    },
    {
      "cell_type": "markdown",
      "source": [
        "outlier removal"
      ],
      "metadata": {
        "id": "a4P_6tRevISP"
      }
    },
    {
      "cell_type": "code",
      "source": [
        "import numpy as np\n",
        "numerical_cols = df.select_dtypes(include=np.number).columns.tolist()\n",
        "mask = pd.Series(True, index=df.index)\n",
        "for col in numerical_cols:\n",
        "    Q1 = df[col].quantile(0.25)\n",
        "    Q3 = df[col].quantile(0.75)\n",
        "    IQR = Q3 - Q1\n",
        "\n",
        "    lower_bound = Q1 - 1.5 * IQR\n",
        "    upper_bound = Q3 + 1.5 * IQR\n",
        "    mask = mask & ((df[col] >= lower_bound) & (df[col] <= upper_bound))\n",
        "\n",
        "df_cleaned = df[mask].copy()\n",
        "print(f\"Original number of rows: {len(df)}\")\n",
        "print(f\"Number of rows after outlier removal: {len(df_cleaned)}\")"
      ],
      "metadata": {
        "colab": {
          "base_uri": "https://localhost:8080/"
        },
        "id": "yOeWBDE5VmUR",
        "outputId": "8bccdf71-5b06-4a1a-f352-b769989f5680"
      },
      "execution_count": 12,
      "outputs": [
        {
          "output_type": "stream",
          "name": "stdout",
          "text": [
            "Original number of rows: 21613\n",
            "Number of rows after outlier removal: 15900\n"
          ]
        }
      ]
    },
    {
      "cell_type": "markdown",
      "source": [
        "train test split"
      ],
      "metadata": {
        "id": "IqGyPtEyvQ_x"
      }
    },
    {
      "cell_type": "code",
      "source": [
        "import pandas as pd\n",
        "from sklearn.model_selection import train_test_split\n",
        "\n",
        "X = df.drop(columns=['Sale Price'])\n",
        "y = df['Sale Price']\n",
        "X_train, X_test, y_train, y_test = train_test_split(X, y, test_size=0.2, random_state=42)\n",
        "print(\"X Train :\",X_train.shape)\n",
        "print(\"X test :\",X_test.shape)"
      ],
      "metadata": {
        "colab": {
          "base_uri": "https://localhost:8080/"
        },
        "id": "tlarGP77WaCt",
        "outputId": "84239c06-e901-4467-f339-8bfd546bbbc9"
      },
      "execution_count": 14,
      "outputs": [
        {
          "output_type": "stream",
          "name": "stdout",
          "text": [
            "X Train : (17290, 40)\n",
            "X test : (4323, 40)\n"
          ]
        }
      ]
    }
  ]
}